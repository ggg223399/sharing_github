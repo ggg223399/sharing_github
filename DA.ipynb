{
 "cells": [
  {
   "cell_type": "code",
   "execution_count": 1,
   "metadata": {},
   "outputs": [],
   "source": [
    "#本次优化目标：\n",
    "#1.筛选出质量糟糕的题目，并且之后提交给后端进行隐藏\n",
    "#2.建立一个关键词库，方便后端后续进行持续的识别\n",
    "#3.设计一个新的rank优化标准"
   ]
  },
  {
   "cell_type": "code",
   "execution_count": 551,
   "metadata": {},
   "outputs": [],
   "source": [
    "import pandas as pd\n",
    "import pymysql\n",
    "import re\n",
    "\n",
    "import time\n",
    "import datetime"
   ]
  },
  {
   "cell_type": "code",
   "execution_count": 736,
   "metadata": {},
   "outputs": [],
   "source": [
    "pd.set_option('max_colwidth', 200)"
   ]
  },
  {
   "cell_type": "code",
   "execution_count": 586,
   "metadata": {},
   "outputs": [],
   "source": [
    "df = pd.read_csv('C:/Users/ggg22/Desktop/iq.csv')\n",
    "df_revise = df.copy(deep=True)"
   ]
  },
  {
   "cell_type": "code",
   "execution_count": 587,
   "metadata": {},
   "outputs": [],
   "source": [
    "# 搜索函数\n",
    "def search_col(df, col_name, string_list):\n",
    "    if col_name == 'description':\n",
    "        for i in string_list:\n",
    "            print('successful find %s' % i)\n",
    "            return(df[df.description.str.match(i)])#.sample(samples))\n",
    "    elif col_name == 'selections':\n",
    "        for i in string_list:\n",
    "            print('successful find %s' % i)\n",
    "            return(df[df.selections.str.match(i)])#.sample(samples))\n",
    "\n",
    "# 删除函数\n",
    "def delete_col(df, col_name, string_list = None, index = None): \n",
    "    if col_name == 'description':\n",
    "        for i in string_list:\n",
    "            df.drop(index = df[df.description.str.match(i)].index, inplace=True)\n",
    "            print('successful delete %s' % i)\n",
    "    elif col_name == 'selections':\n",
    "        for i in string_list:\n",
    "            df.drop(index = df[df.selections.str.match(i)].index, inplace=True)\n",
    "            print('successful delete %s' % i)\n",
    "    elif col_name == 'index':\n",
    "        df.drop(index, inplace=True)"
   ]
  },
  {
   "cell_type": "code",
   "execution_count": null,
   "metadata": {},
   "outputs": [],
   "source": [
    "# 首先进行20次随机取样，发现一些和垃圾题目相关的关键词\n",
    "df_revise.sample(10)"
   ]
  },
  {
   "cell_type": "code",
   "execution_count": 555,
   "metadata": {},
   "outputs": [],
   "source": [
    "# 验证题干以数字开头的题目质量\n",
    "search_col(df_revise, 'description', [r'^\\d.*']).sample(10)\n",
    "# 经过10次随机取样后发现使用数字开头判断准确率并不高，但是发现可以通过其他方式判断"
   ]
  },
  {
   "cell_type": "code",
   "execution_count": 588,
   "metadata": {},
   "outputs": [
    {
     "name": "stdout",
     "output_type": "stream",
     "text": [
      "successful find .*\"对\\\\.*\n",
      "successful find .*\"对\\\\.*|.*\"错\\\\.*\n",
      "successful delete .*\"对\\\\.*|.*\"错\\\\.*\n",
      "successful delete .*\"✔\\\\.*|.*\"x\\\\.*\n"
     ]
    }
   ],
   "source": [
    "# 验证选项中仅包含“对”或“错”关键词的题目\n",
    "search_col(df_revise, 'selections', [r'.*\"对\\\\.*']).sample(10)\n",
    "\n",
    "# 经过10次随机取样后发现基本都是垃圾题目，可以删除；后续还发现用户会使用✔、✘、x\n",
    "search_col(df_revise, 'selections', [r'.*\"对\\\\.*|.*\"错\\\\.*', r'.*\"✔\\\\.*|.*\"x\\\\.*']).sample(frac = 1)\n",
    "\n",
    "# 通过上述字符可以删除 10k+ 条垃圾题目，占总题目数的 14.72%\n",
    "delete_col(df_revise ,'selections', [r'.*\"对\\\\.*|.*\"错\\\\.*', r'.*\"✔\\\\.*|.*\"x\\\\.*'])"
   ]
  },
  {
   "cell_type": "code",
   "execution_count": 589,
   "metadata": {},
   "outputs": [
    {
     "name": "stdout",
     "output_type": "stream",
     "text": [
      "successful find .*答案.*\n",
      "successful find .*答案.*\n",
      "successful find .*答案.*\n"
     ]
    }
   ],
   "source": [
    "# 验证题干中包含“答案”关键词\n",
    "search_col(df_revise, 'description', [r'.*答案.*']).sample(10)\n",
    "\n",
    "# 发现题干包含“答案”字符的非图片题基本都是垃圾\n",
    "search_col(df_revise, 'description', [r'.*答案.*'])\n",
    "tmp_cache = search_col(df_revise, 'description', [r'.*答案.*']).copy(deep=True)\n",
    "tmp_cache.where(df_revise['type'] != 'image', inplace = True)\n",
    "tmp_cache.dropna(how='all')\n",
    "\n",
    "# 通过该字符排除图片题后，可以删除 180 条垃圾题目，占总题目数的 0.26%\n",
    "delete_col(df_revise ,'index', index = tmp_cache.dropna(how='all').index)"
   ]
  },
  {
   "cell_type": "code",
   "execution_count": 609,
   "metadata": {},
   "outputs": [
    {
     "name": "stdout",
     "output_type": "stream",
     "text": [
      "successful find .*不知道.*\n",
      "successful delete .*不知道.*\n"
     ]
    }
   ],
   "source": [
    "# 验证选项中仅包含“不知道”关键词的题目\n",
    "search_col(df_revise, 'selections', [r'.*不知道.*']).sample(10)\n",
    "\n",
    "# 通过上述字符可以删除 2k+ 条垃圾题目，占总题目数的 3.31%\n",
    "delete_col(df_revise ,'selections', [r'.*不知道.*'])"
   ]
  },
  {
   "cell_type": "code",
   "execution_count": 630,
   "metadata": {},
   "outputs": [
    {
     "name": "stdout",
     "output_type": "stream",
     "text": [
      "successful find .*Text\\\\\":\\\\\"\\d\\\\.*\n",
      "successful delete .*Text\\\\\":\\\\\"\\d\\\\.*\n"
     ]
    }
   ],
   "source": [
    "# 验证选项中仅包含“单个数字”关键词的题目\n",
    "search_col(df_revise, 'selections', [r'.*Text\\\\\":\\\\\"\\d\\\\.*']).sample(10)\n",
    "\n",
    "# 通过上述字符可以删除 2k+ 条垃圾题目，占总题目数的 3.35%\n",
    "delete_col(df_revise ,'selections', [r'.*Text\\\\\":\\\\\"\\d\\\\.*'])"
   ]
  },
  {
   "cell_type": "code",
   "execution_count": 721,
   "metadata": {},
   "outputs": [
    {
     "name": "stdout",
     "output_type": "stream",
     "text": [
      "successful find .*选.*\n",
      "successful find .*[a-dA-D].*\n",
      "successful find .*\\n.*\n",
      "successful find .*脑筋急转弯.*\n",
      "successful find .*-.*\n",
      "successful find .*\\d\\d\\d\\d\\d*.*\n",
      "successful find .*选\\\\.*\n",
      "successful find .*Text\\\\\":\\\\\"[a-dA-D]\\\\.*\n",
      "successful find .*Text\\\\\":\\\\\"。\\\\.*\n",
      "successful find .*选.*\n",
      "successful delete .*选\\\\.*\n",
      "successful delete .*Text\\\\\":\\\\\"[a-dA-D]\\\\.*\n",
      "successful delete .*Text\\\\\":\\\\\"。\\\\.*\n"
     ]
    }
   ],
   "source": [
    "# 题干包含“选” - 195\n",
    "search_col(df_revise, 'description', [r'.*选.*'])\n",
    "\n",
    "# 题干包含字母 - 292\n",
    "search_col(df_revise, 'description', [r'.*[a-dA-D].*']) \n",
    "\n",
    "# 排版错误 - 1057\n",
    "search_col(df_revise, 'description', [r'.*\\n.*'])\n",
    "\n",
    "# 题干包含\"脑筋急转弯\" - 392\n",
    "search_col(df_revise, 'description', [r'.*脑筋急转弯.*'])\n",
    "\n",
    "# 题干包含“-” - 148\n",
    "search_col(df_revise, 'description', [r'.*-.*'])\n",
    "\n",
    "# 题干包含“超过4个数字” - 244\n",
    "search_col(df_revise, 'description', [r'.*\\d\\d\\d\\d\\d*.*'])\n",
    "\n",
    "# 选项包含“选” - 15\n",
    "search_col(df_revise, 'selections', [r'.*选\\\\.*'])\n",
    "\n",
    "# 选项包含“ABCD” - 292\n",
    "search_col(df_revise, 'selections', [r'.*Text\\\\\":\\\\\"[a-dA-D]\\\\.*'])\n",
    "\n",
    "# 选项包含“。” - 292\n",
    "search_col(df_revise, 'selections', [r'.*Text\\\\\":\\\\\"。\\\\.*'])\n",
    "\n",
    "# 删除\n",
    "search_col(df_revise, 'description', [r'.*选.*', r'.*[a-dA-D].*', r'.*\\n.*', r'.*脑筋急转弯.*', r'.*-.*', r'.*\\d\\d\\d\\d\\d*.*'])\n",
    "delete_col(df_revise ,'selections', [r'.*选\\\\.*', r'.*Text\\\\\":\\\\\"[a-dA-D]\\\\.*', r'.*Text\\\\\":\\\\\"。\\\\.*'])"
   ]
  },
  {
   "cell_type": "code",
   "execution_count": 727,
   "metadata": {},
   "outputs": [
    {
     "data": {
      "text/plain": [
       "16163"
      ]
     },
     "execution_count": 727,
     "metadata": {},
     "output_type": "execute_result"
    }
   ],
   "source": [
    "# 通过关键词共优化，粗略减少16499个垃圾题目，占比为23.57%\n",
    "len(df.index) - len(df_revise.index)"
   ]
  },
  {
   "cell_type": "code",
   "execution_count": 747,
   "metadata": {},
   "outputs": [
    {
     "data": {
      "text/plain": [
       "Int64Index([    3,     4,     6,    11,    12,    15,    16,    19,    20,\n",
       "               21,\n",
       "            ...\n",
       "            68329, 68684, 68691, 68693, 68694, 68696, 68702, 68704, 68705,\n",
       "            68709],\n",
       "           dtype='int64', length=6853)"
      ]
     },
     "execution_count": 747,
     "metadata": {},
     "output_type": "execute_result"
    }
   ],
   "source": [
    "# 分数占比，举报为负分\n",
    "\n",
    "#df_revise.where(df_revies[''])\n",
    "\n",
    "# 举报 reports_count\n",
    "tmp_cache = df_revise.copy(deep=True)\n",
    "tmp_cache.where(df_revise['reports_count'] > 0, inplace = True)\n",
    "tmp_cache.dropna(how='all').index\n",
    "\n",
    "# 点赞 count_likes\n",
    "tmp_cache = df_revise.copy(deep=True)\n",
    "tmp_cache.where(df_revise['count_likes'] > 0, inplace = True)\n",
    "tmp_cache.dropna(how='all').index"
   ]
  }
 ],
 "metadata": {
  "kernelspec": {
   "display_name": "Python 3",
   "language": "python",
   "name": "python3"
  },
  "language_info": {
   "codemirror_mode": {
    "name": "ipython",
    "version": 3
   },
   "file_extension": ".py",
   "mimetype": "text/x-python",
   "name": "python",
   "nbconvert_exporter": "python",
   "pygments_lexer": "ipython3",
   "version": "3.8.3"
  }
 },
 "nbformat": 4,
 "nbformat_minor": 4
}
